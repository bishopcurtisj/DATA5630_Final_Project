{
 "cells": [
  {
   "cell_type": "code",
   "execution_count": 1,
   "metadata": {},
   "outputs": [
    {
     "name": "stdout",
     "output_type": "stream",
     "text": [
      "WARNING:tensorflow:From c:\\Users\\bisho\\.conda\\envs\\TensorFlow\\lib\\site-packages\\keras\\src\\losses.py:2976: The name tf.losses.sparse_softmax_cross_entropy is deprecated. Please use tf.compat.v1.losses.sparse_softmax_cross_entropy instead.\n",
      "\n"
     ]
    }
   ],
   "source": [
    "import warnings\n",
    "warnings.filterwarnings(\"ignore\")\n",
    "import numpy as np\n",
    "import pandas as pd\n",
    "from tensorflow import keras\n",
    "from tensorflow.keras import layers\n",
    "import matplotlib.pyplot as plt\n"
   ]
  },
  {
   "cell_type": "markdown",
   "metadata": {},
   "source": []
  },
  {
   "cell_type": "code",
   "execution_count": 2,
   "metadata": {},
   "outputs": [],
   "source": [
    "# Load the data\n",
    "spurs = pd.read_csv('..\\\\data\\\\spurs.csv')\n",
    "spurs = spurs[(spurs['season_type']==0)  &(spurs['season']<2020) & (spurs['season']>2000)].reset_index(drop=True)"
   ]
  },
  {
   "cell_type": "markdown",
   "metadata": {},
   "source": [
    "## Using regular season games to predict regular season games"
   ]
  },
  {
   "cell_type": "code",
   "execution_count": 20,
   "metadata": {},
   "outputs": [],
   "source": [
    "num_train_samples = int(0.6 * len(spurs))\n",
    "num_val_samples = int(0.20 * len(spurs))\n",
    "num_test_samples = len(spurs) - num_train_samples - num_val_samples"
   ]
  },
  {
   "cell_type": "markdown",
   "metadata": {},
   "source": [
    "### Splitting data into Train, Validation, Test splits"
   ]
  },
  {
   "cell_type": "code",
   "execution_count": 11,
   "metadata": {},
   "outputs": [],
   "source": [
    "sequence_length = 82\n",
    "batch_size = 32\n",
    "h = 1\n",
    "delay = sequence_length + h - 1\n",
    "\n",
    "scores=spurs['score']\n",
    "\n",
    "train_dataset = keras.utils.timeseries_dataset_from_array(\n",
    "    data = scores[:-delay],\n",
    "    targets=scores[delay:],\n",
    "    sequence_length=sequence_length,\n",
    "    shuffle=True,\n",
    "    batch_size=batch_size,\n",
    "    start_index=0,\n",
    "    end_index=num_train_samples)\n",
    "\n",
    "val_dataset = keras.utils.timeseries_dataset_from_array(\n",
    "    data = scores[:-delay],\n",
    "    targets=scores[delay:],\n",
    "    sequence_length=sequence_length,\n",
    "    shuffle=True,\n",
    "    batch_size=batch_size,\n",
    "    start_index=num_train_samples,\n",
    "    end_index=num_train_samples + num_val_samples)\n",
    "\n",
    "test_dataset = keras.utils.timeseries_dataset_from_array(\n",
    "    data = scores[:-delay],\n",
    "    targets=scores[delay:],\n",
    "    sequence_length=sequence_length,\n",
    "    shuffle=True,\n",
    "    batch_size=batch_size,\n",
    "    start_index=num_train_samples + num_val_samples)"
   ]
  },
  {
   "cell_type": "markdown",
   "metadata": {},
   "source": [
    "### Testing the performance of architectures implemented in Assignment 7"
   ]
  },
  {
   "cell_type": "code",
   "execution_count": 12,
   "metadata": {},
   "outputs": [
    {
     "name": "stdout",
     "output_type": "stream",
     "text": [
      "WARNING:tensorflow:From c:\\Users\\bisho\\.conda\\envs\\TensorFlow\\lib\\site-packages\\keras\\src\\backend.py:1398: The name tf.executing_eagerly_outside_functions is deprecated. Please use tf.compat.v1.executing_eagerly_outside_functions instead.\n",
      "\n",
      "WARNING:tensorflow:From c:\\Users\\bisho\\.conda\\envs\\TensorFlow\\lib\\site-packages\\keras\\src\\optimizers\\__init__.py:309: The name tf.train.Optimizer is deprecated. Please use tf.compat.v1.train.Optimizer instead.\n",
      "\n",
      "Epoch 1/20\n",
      "WARNING:tensorflow:From c:\\Users\\bisho\\.conda\\envs\\TensorFlow\\lib\\site-packages\\keras\\src\\utils\\tf_utils.py:492: The name tf.ragged.RaggedTensorValue is deprecated. Please use tf.compat.v1.ragged.RaggedTensorValue instead.\n",
      "\n",
      "WARNING:tensorflow:From c:\\Users\\bisho\\.conda\\envs\\TensorFlow\\lib\\site-packages\\keras\\src\\engine\\base_layer_utils.py:384: The name tf.executing_eagerly_outside_functions is deprecated. Please use tf.compat.v1.executing_eagerly_outside_functions instead.\n",
      "\n",
      "25/25 [==============================] - 2s 26ms/step - loss: 8433.2832 - mae: 91.0817 - val_loss: 9572.4102 - val_mae: 97.2237\n",
      "Epoch 2/20\n",
      "25/25 [==============================] - 0s 14ms/step - loss: 7855.7212 - mae: 87.8507 - val_loss: 9016.2598 - val_mae: 94.3210\n",
      "Epoch 3/20\n",
      "25/25 [==============================] - 0s 15ms/step - loss: 7502.4370 - mae: 85.8220 - val_loss: 8706.0645 - val_mae: 92.6623\n",
      "Epoch 4/20\n",
      "25/25 [==============================] - 0s 15ms/step - loss: 7225.4766 - mae: 84.1922 - val_loss: 8408.5400 - val_mae: 91.0427\n",
      "Epoch 5/20\n",
      "25/25 [==============================] - 0s 14ms/step - loss: 6956.1069 - mae: 82.5754 - val_loss: 8117.3335 - val_mae: 89.4292\n",
      "Epoch 6/20\n",
      "25/25 [==============================] - 0s 14ms/step - loss: 6691.7896 - mae: 80.9632 - val_loss: 7830.8447 - val_mae: 87.8128\n",
      "Epoch 7/20\n",
      "25/25 [==============================] - 0s 14ms/step - loss: 6433.1099 - mae: 79.3487 - val_loss: 7550.3091 - val_mae: 86.2006\n",
      "Epoch 8/20\n",
      "25/25 [==============================] - 0s 14ms/step - loss: 6173.6899 - mae: 77.6965 - val_loss: 7258.8828 - val_mae: 84.4933\n",
      "Epoch 9/20\n",
      "25/25 [==============================] - 0s 14ms/step - loss: 5916.7319 - mae: 76.0233 - val_loss: 6988.0283 - val_mae: 82.8750\n",
      "Epoch 10/20\n",
      "25/25 [==============================] - 0s 14ms/step - loss: 5674.0215 - mae: 74.4092 - val_loss: 6723.4502 - val_mae: 81.2631\n",
      "Epoch 11/20\n",
      "25/25 [==============================] - 0s 14ms/step - loss: 5436.6631 - mae: 72.7972 - val_loss: 6464.3091 - val_mae: 79.6527\n",
      "Epoch 12/20\n",
      "25/25 [==============================] - 0s 14ms/step - loss: 5204.8086 - mae: 71.1862 - val_loss: 6210.2954 - val_mae: 78.0419\n",
      "Epoch 13/20\n",
      "25/25 [==============================] - 0s 14ms/step - loss: 4978.2041 - mae: 69.5745 - val_loss: 5961.8667 - val_mae: 76.4337\n",
      "Epoch 14/20\n",
      "25/25 [==============================] - 0s 14ms/step - loss: 4756.6187 - mae: 67.9672 - val_loss: 5717.4536 - val_mae: 74.8177\n",
      "Epoch 15/20\n",
      "25/25 [==============================] - 0s 14ms/step - loss: 4540.0542 - mae: 66.3545 - val_loss: 5479.2061 - val_mae: 73.2082\n",
      "Epoch 16/20\n",
      "25/25 [==============================] - 0s 14ms/step - loss: 4329.1016 - mae: 64.7440 - val_loss: 5246.4502 - val_mae: 71.6009\n",
      "Epoch 17/20\n",
      "25/25 [==============================] - 0s 13ms/step - loss: 4122.9927 - mae: 63.1357 - val_loss: 5018.4785 - val_mae: 69.9909\n",
      "Epoch 18/20\n",
      "25/25 [==============================] - 0s 14ms/step - loss: 3922.6516 - mae: 61.5263 - val_loss: 4795.7925 - val_mae: 68.3815\n",
      "Epoch 19/20\n",
      "25/25 [==============================] - 0s 14ms/step - loss: 3727.2214 - mae: 59.9186 - val_loss: 4577.9404 - val_mae: 66.7696\n",
      "Epoch 20/20\n",
      "25/25 [==============================] - 0s 14ms/step - loss: 3537.2405 - mae: 58.3066 - val_loss: 4366.7427 - val_mae: 65.1689\n",
      "5/5 [==============================] - 0s 5ms/step - loss: 4218.8315 - mae: 64.0217\n",
      "Test MAE: 64.022\n"
     ]
    }
   ],
   "source": [
    "num_features=1\n",
    "inputs = keras.Input(shape=(sequence_length, num_features))\n",
    "x = layers.SimpleRNN(64)(inputs)\n",
    "outputs = layers.Dense(1)(x)\n",
    "model = keras.Model(inputs, outputs)\n",
    "\n",
    "callbacks = [keras.callbacks.ModelCheckpoint(\"RNN.keras\",save_best_only=True, monitor='val_loss')]\n",
    "model.compile(optimizer=\"rmsprop\", loss=\"mse\", metrics=[\"mae\"])\n",
    "\n",
    "history = model.fit(train_dataset,\n",
    "                    epochs=20,\n",
    "                    validation_data=val_dataset,\n",
    "                    callbacks=callbacks)\n",
    "\n",
    "model = keras.models.load_model(\"RNN.keras\")\n",
    "rnn_mae = model.evaluate(test_dataset)[1]\n",
    "print(f\"Test MAE: {rnn_mae:.3f}\")"
   ]
  },
  {
   "cell_type": "code",
   "execution_count": 15,
   "metadata": {},
   "outputs": [
    {
     "name": "stdout",
     "output_type": "stream",
     "text": [
      "Model: \"model_2\"\n",
      "_________________________________________________________________\n",
      " Layer (type)                Output Shape              Param #   \n",
      "=================================================================\n",
      " input_3 (InputLayer)        [(None, 82, 1)]           0         \n",
      "                                                                 \n",
      " lstm_1 (LSTM)               (None, 64)                16896     \n",
      "                                                                 \n",
      " dense_2 (Dense)             (None, 1)                 65        \n",
      "                                                                 \n",
      "=================================================================\n",
      "Total params: 16961 (66.25 KB)\n",
      "Trainable params: 16961 (66.25 KB)\n",
      "Non-trainable params: 0 (0.00 Byte)\n",
      "_________________________________________________________________\n",
      "Epoch 1/20\n",
      "25/25 [==============================] - 3s 48ms/step - loss: 9206.8223 - mae: 95.2228 - val_loss: 10235.0156 - val_mae: 100.5738\n",
      "Epoch 2/20\n",
      "25/25 [==============================] - 1s 30ms/step - loss: 8380.9775 - mae: 90.7888 - val_loss: 9480.4971 - val_mae: 96.7503\n",
      "Epoch 3/20\n",
      "25/25 [==============================] - 1s 30ms/step - loss: 7918.8335 - mae: 88.2131 - val_loss: 9180.6270 - val_mae: 95.1886\n",
      "Epoch 4/20\n",
      "25/25 [==============================] - 1s 31ms/step - loss: 7683.1270 - mae: 86.8685 - val_loss: 8930.2529 - val_mae: 93.8643\n",
      "Epoch 5/20\n",
      "25/25 [==============================] - 1s 30ms/step - loss: 7458.4243 - mae: 85.5650 - val_loss: 8703.0459 - val_mae: 92.6461\n",
      "Epoch 6/20\n",
      "25/25 [==============================] - 1s 31ms/step - loss: 7266.2495 - mae: 84.4344 - val_loss: 8503.7998 - val_mae: 91.5644\n",
      "Epoch 7/20\n",
      "25/25 [==============================] - 1s 31ms/step - loss: 7085.3413 - mae: 83.3563 - val_loss: 8308.4209 - val_mae: 90.4912\n",
      "Epoch 8/20\n",
      "25/25 [==============================] - 1s 31ms/step - loss: 6907.6294 - mae: 82.2844 - val_loss: 8115.6372 - val_mae: 89.4197\n",
      "Epoch 9/20\n",
      "25/25 [==============================] - 1s 31ms/step - loss: 6732.4790 - mae: 81.2141 - val_loss: 7925.2021 - val_mae: 88.3484\n",
      "Epoch 10/20\n",
      "25/25 [==============================] - 1s 31ms/step - loss: 6559.8340 - mae: 80.1433 - val_loss: 7737.4336 - val_mae: 87.2793\n",
      "Epoch 11/20\n",
      "25/25 [==============================] - 1s 31ms/step - loss: 6385.8354 - mae: 79.0491 - val_loss: 7537.0073 - val_mae: 86.1235\n",
      "Epoch 12/20\n",
      "25/25 [==============================] - 1s 30ms/step - loss: 6203.7510 - mae: 77.8895 - val_loss: 7345.3452 - val_mae: 85.0035\n",
      "Epoch 13/20\n",
      "25/25 [==============================] - 1s 32ms/step - loss: 6030.1968 - mae: 76.7695 - val_loss: 7147.3037 - val_mae: 83.8306\n",
      "Epoch 14/20\n",
      "25/25 [==============================] - 1s 31ms/step - loss: 5846.5439 - mae: 75.5617 - val_loss: 6941.1743 - val_mae: 82.5920\n",
      "Epoch 15/20\n",
      "25/25 [==============================] - 1s 31ms/step - loss: 5662.4351 - mae: 74.3350 - val_loss: 6748.5249 - val_mae: 81.4173\n",
      "Epoch 16/20\n",
      "25/25 [==============================] - 1s 30ms/step - loss: 5491.5093 - mae: 73.1760 - val_loss: 6563.0332 - val_mae: 80.2700\n",
      "Epoch 17/20\n",
      "25/25 [==============================] - 1s 32ms/step - loss: 5325.3818 - mae: 72.0288 - val_loss: 6381.2466 - val_mae: 79.1296\n",
      "Epoch 18/20\n",
      "25/25 [==============================] - 1s 31ms/step - loss: 5161.8569 - mae: 70.8871 - val_loss: 6201.2642 - val_mae: 77.9840\n",
      "Epoch 19/20\n",
      "25/25 [==============================] - 1s 30ms/step - loss: 4996.2598 - mae: 69.7089 - val_loss: 6007.6396 - val_mae: 76.7325\n",
      "Epoch 20/20\n",
      "25/25 [==============================] - 1s 31ms/step - loss: 4823.3770 - mae: 68.4590 - val_loss: 5824.9976 - val_mae: 75.5330\n",
      "5/5 [==============================] - 1s 11ms/step - loss: 5653.3120 - mae: 74.3859\n",
      "Test MAE: 74.386\n"
     ]
    }
   ],
   "source": [
    "inputs = keras.Input(shape=(sequence_length, num_features))\n",
    "x = layers.LSTM(64)(inputs)\n",
    "outputs = layers.Dense(1)(x)\n",
    "lstm = keras.Model(inputs, outputs)\n",
    "\n",
    "lstm.summary()\n",
    "\n",
    "callbacks = [keras.callbacks.ModelCheckpoint(\"LSTM.keras\",save_best_only=True, monitor='val_loss')]\n",
    "lstm.compile(optimizer=\"rmsprop\", loss=\"mse\", metrics=[\"mae\"])\n",
    "\n",
    "history = lstm.fit(train_dataset,\n",
    "                    epochs=20,\n",
    "                    validation_data=val_dataset,\n",
    "                    callbacks=callbacks)\n",
    "\n",
    "lstm = keras.models.load_model(\"LSTM.keras\")\n",
    "lstm_mae=lstm.evaluate(test_dataset)[1]\n",
    "print(f\"Test MAE: {lstm_mae:.3f}\")"
   ]
  },
  {
   "cell_type": "code",
   "execution_count": 16,
   "metadata": {},
   "outputs": [
    {
     "name": "stdout",
     "output_type": "stream",
     "text": [
      "Model: \"model_3\"\n",
      "_________________________________________________________________\n",
      " Layer (type)                Output Shape              Param #   \n",
      "=================================================================\n",
      " input_4 (InputLayer)        [(None, 82, 1)]           0         \n",
      "                                                                 \n",
      " lstm_2 (LSTM)               (None, 82, 128)           66560     \n",
      "                                                                 \n",
      " simple_rnn_1 (SimpleRNN)    (None, 128)               32896     \n",
      "                                                                 \n",
      " dropout (Dropout)           (None, 128)               0         \n",
      "                                                                 \n",
      " dense_3 (Dense)             (None, 1)                 129       \n",
      "                                                                 \n",
      "=================================================================\n",
      "Total params: 99585 (389.00 KB)\n",
      "Trainable params: 99585 (389.00 KB)\n",
      "Non-trainable params: 0 (0.00 Byte)\n",
      "_________________________________________________________________\n",
      "Epoch 1/20\n",
      "25/25 [==============================] - 6s 129ms/step - loss: 7235.3828 - mae: 84.0927 - val_loss: 7660.5723 - val_mae: 86.8376\n",
      "Epoch 2/20\n",
      "25/25 [==============================] - 3s 125ms/step - loss: 6140.3882 - mae: 77.4747 - val_loss: 7084.0112 - val_mae: 83.4521\n",
      "Epoch 3/20\n",
      "25/25 [==============================] - 3s 129ms/step - loss: 5654.2920 - mae: 74.2772 - val_loss: 6562.6880 - val_mae: 80.2678\n",
      "Epoch 4/20\n",
      "25/25 [==============================] - 3s 117ms/step - loss: 5182.5601 - mae: 71.0229 - val_loss: 6064.2891 - val_mae: 77.1008\n",
      "Epoch 5/20\n",
      "25/25 [==============================] - 3s 129ms/step - loss: 4752.3555 - mae: 67.9210 - val_loss: 5586.3896 - val_mae: 73.9367\n",
      "Epoch 6/20\n",
      "25/25 [==============================] - 3s 113ms/step - loss: 4325.6558 - mae: 64.7104 - val_loss: 5129.3413 - val_mae: 70.7784\n",
      "Epoch 7/20\n",
      "25/25 [==============================] - 3s 113ms/step - loss: 3923.8459 - mae: 61.5237 - val_loss: 4692.2729 - val_mae: 67.6204\n",
      "Epoch 8/20\n",
      "25/25 [==============================] - 3s 114ms/step - loss: 3554.1409 - mae: 58.4488 - val_loss: 4274.7412 - val_mae: 64.4591\n",
      "Epoch 9/20\n",
      "25/25 [==============================] - 3s 115ms/step - loss: 3191.4519 - mae: 55.2487 - val_loss: 3879.1943 - val_mae: 61.3142\n",
      "Epoch 10/20\n",
      "25/25 [==============================] - 3s 127ms/step - loss: 2853.6909 - mae: 52.0962 - val_loss: 3503.6260 - val_mae: 58.1710\n",
      "Epoch 11/20\n",
      "25/25 [==============================] - 3s 122ms/step - loss: 2531.5581 - mae: 48.9105 - val_loss: 3147.7842 - val_mae: 55.0275\n",
      "Epoch 12/20\n",
      "25/25 [==============================] - 3s 117ms/step - loss: 2244.8574 - mae: 45.8635 - val_loss: 2811.3684 - val_mae: 51.8807\n",
      "Epoch 13/20\n",
      "25/25 [==============================] - 3s 121ms/step - loss: 1968.1234 - mae: 42.7521 - val_loss: 2496.7859 - val_mae: 48.7547\n",
      "Epoch 14/20\n",
      "25/25 [==============================] - 3s 111ms/step - loss: 1707.2537 - mae: 39.5541 - val_loss: 2201.3762 - val_mae: 45.6247\n",
      "Epoch 15/20\n",
      "25/25 [==============================] - 3s 105ms/step - loss: 1469.0460 - mae: 36.4374 - val_loss: 1928.0850 - val_mae: 42.5244\n",
      "Epoch 16/20\n",
      "25/25 [==============================] - 3s 110ms/step - loss: 1251.3252 - mae: 33.3159 - val_loss: 1674.2789 - val_mae: 39.4274\n",
      "Epoch 17/20\n",
      "25/25 [==============================] - 3s 103ms/step - loss: 1058.4664 - mae: 30.2268 - val_loss: 1440.0563 - val_mae: 36.3359\n",
      "Epoch 18/20\n",
      "25/25 [==============================] - 3s 110ms/step - loss: 891.3531 - mae: 27.4276 - val_loss: 1225.0363 - val_mae: 33.2457\n",
      "Epoch 19/20\n",
      "25/25 [==============================] - 3s 116ms/step - loss: 717.1707 - mae: 24.1447 - val_loss: 1031.1537 - val_mae: 30.1893\n",
      "Epoch 20/20\n",
      "25/25 [==============================] - 3s 108ms/step - loss: 585.1339 - mae: 21.2749 - val_loss: 857.0743 - val_mae: 27.1678\n",
      "5/5 [==============================] - 1s 17ms/step - loss: 796.3804 - mae: 26.0607\n",
      "Test MAE: 26.061\n"
     ]
    }
   ],
   "source": [
    "inputs = keras.Input(shape=(sequence_length, num_features))\n",
    "x = layers.LSTM(128, recurrent_dropout=0.1, return_sequences=True)(inputs)\n",
    "x = layers.SimpleRNN(128, recurrent_dropout=0.1)(x)\n",
    "x = layers.Dropout(0.1)(x)\n",
    "outputs = layers.Dense(1)(x)\n",
    "model = keras.Model(inputs, outputs)\n",
    "\n",
    "model.summary()\n",
    "\n",
    "callbacks=[keras.callbacks.ModelCheckpoint(\"RNN_LSTM_Stacked.keras\",save_best_only=True)]\n",
    "model.compile(optimizer=\"rmsprop\", loss=\"mse\", metrics=[\"mae\"])\n",
    "\n",
    "history = model.fit(train_dataset, epochs=20, validation_data=val_dataset, callbacks=callbacks)\n",
    "\n",
    "model = keras.models.load_model(\"RNN_LSTM_Stacked.keras\")\n",
    "rls_mae = model.evaluate(test_dataset)[1]\n",
    "print(f\"Test MAE: {rls_mae:.3f}\")"
   ]
  },
  {
   "cell_type": "code",
   "execution_count": 4,
   "metadata": {},
   "outputs": [],
   "source": [
    "## Borrowed your function to evaluate the naive method\n",
    "def evaluate_naive_method(dataset):\n",
    "    total_abs_err = 0. # Initializes a variable to accumulate the total absolute error of the predictions. This is a floating-point variable, as indicated by the .0.\n",
    "    samples_seen = 0   # Initializes a counter for the total number of samples (data points) seen during the evaluation.\n",
    "    for samples, targets in dataset:\n",
    "        preds = samples[:, -1] # naive forecast is the last value observed in the sequence\n",
    "        total_abs_err += np.sum(np.abs(preds - targets))\n",
    "        samples_seen += samples.shape[0] # number of samples in the batch\n",
    "    return total_abs_err / samples_seen\n",
    "\n",
    "#print('Validation MAE:', evaluate_naive_method(test_dataset))"
   ]
  },
  {
   "cell_type": "markdown",
   "metadata": {},
   "source": [
    "## Normalizing scores by defensive strength of opponent"
   ]
  },
  {
   "cell_type": "code",
   "execution_count": 5,
   "metadata": {},
   "outputs": [],
   "source": [
    "def split_data(features, targets ,sequence_length, batch_size, h, splits=[0.6, 0.2, 0.2]):\n",
    "    num_train_samples = int(splits[0] * len(features))\n",
    "    num_val_samples = int(splits[1] * len(features))\n",
    "    num_test_samples = len(features) - num_train_samples - num_val_samples\n",
    "    delay = sequence_length + h - 1\n",
    "    \n",
    "    \n",
    "\n",
    "    train_dataset = keras.utils.timeseries_dataset_from_array(\n",
    "        data = features[:-delay],\n",
    "        targets=targets[delay:],\n",
    "        sequence_length=sequence_length,\n",
    "        shuffle=True,\n",
    "        batch_size=batch_size,\n",
    "        start_index=0,\n",
    "        end_index=num_train_samples)\n",
    "\n",
    "    val_dataset = keras.utils.timeseries_dataset_from_array(\n",
    "        data = features[:-delay],\n",
    "        targets=targets[delay:],\n",
    "        sequence_length=sequence_length,\n",
    "        shuffle=True,\n",
    "        batch_size=batch_size,\n",
    "        start_index=num_train_samples,\n",
    "        end_index=num_train_samples + num_val_samples)\n",
    "\n",
    "    test_dataset = keras.utils.timeseries_dataset_from_array(\n",
    "        data = features[:-delay],\n",
    "        targets=targets[delay:],\n",
    "        sequence_length=sequence_length,\n",
    "        shuffle=True,\n",
    "        batch_size=batch_size,\n",
    "        start_index=num_train_samples + num_val_samples)\n",
    "\n",
    "    return train_dataset, val_dataset, test_dataset\n",
    "\n"
   ]
  },
  {
   "cell_type": "code",
   "execution_count": 45,
   "metadata": {},
   "outputs": [],
   "source": [
    "## Splitting data for the score_diff model\n",
    "\n",
    "sequence_length = 16\n",
    "batch_size = 32\n",
    "h = 1\n",
    "features = spurs['score_diff']\n",
    "\n",
    "train_dataset, val_dataset, test_dataset = split_data(features, features, sequence_length, batch_size, h)"
   ]
  },
  {
   "cell_type": "code",
   "execution_count": 6,
   "metadata": {},
   "outputs": [],
   "source": [
    "### function that implements the best performing model architecture\n",
    "def stacked_model(filepath, train_dataset, val_dataset, sequence_length, num_features):\n",
    "\n",
    "    inputs = keras.Input(shape=(sequence_length, num_features))\n",
    "    x = layers.LSTM(128, recurrent_dropout=0.1, return_sequences=True)(inputs)\n",
    "    x = layers.SimpleRNN(128, recurrent_dropout=0.1)(x)\n",
    "    x = layers.Dropout(0.1)(x)\n",
    "    outputs = layers.Dense(1)(x)\n",
    "\n",
    "    model = keras.Model(inputs, outputs)\n",
    "\n",
    "    model.summary()\n",
    "\n",
    "    callbacks=[keras.callbacks.ModelCheckpoint(filepath,save_best_only=True)]\n",
    "    model.compile(optimizer=\"rmsprop\", loss=\"mse\", metrics=[\"mae\"])\n",
    "    \n",
    "    history = model.fit(train_dataset, epochs=20, validation_data=val_dataset, callbacks=callbacks)\n",
    "    return pd.DataFrame(history.history)\n"
   ]
  },
  {
   "cell_type": "code",
   "execution_count": 22,
   "metadata": {},
   "outputs": [
    {
     "name": "stdout",
     "output_type": "stream",
     "text": [
      "Model: \"model_4\"\n",
      "_________________________________________________________________\n",
      " Layer (type)                Output Shape              Param #   \n",
      "=================================================================\n",
      " input_5 (InputLayer)        [(None, 16, 1)]           0         \n",
      "                                                                 \n",
      " lstm_3 (LSTM)               (None, 16, 128)           66560     \n",
      "                                                                 \n",
      " simple_rnn_2 (SimpleRNN)    (None, 128)               32896     \n",
      "                                                                 \n",
      " dropout_1 (Dropout)         (None, 128)               0         \n",
      "                                                                 \n",
      " dense_4 (Dense)             (None, 1)                 129       \n",
      "                                                                 \n",
      "=================================================================\n",
      "Total params: 99585 (389.00 KB)\n",
      "Trainable params: 99585 (389.00 KB)\n",
      "Non-trainable params: 0 (0.00 Byte)\n",
      "_________________________________________________________________\n",
      "Epoch 1/20\n",
      "27/27 [==============================] - 4s 43ms/step - loss: 123.9923 - mae: 8.8492 - val_loss: 151.6326 - val_mae: 10.0095\n",
      "Epoch 2/20\n",
      "27/27 [==============================] - 1s 29ms/step - loss: 118.0424 - mae: 8.5627 - val_loss: 157.6180 - val_mae: 10.0846\n",
      "Epoch 3/20\n",
      "27/27 [==============================] - 1s 30ms/step - loss: 117.9446 - mae: 8.5611 - val_loss: 140.6815 - val_mae: 9.6463\n",
      "Epoch 4/20\n",
      "27/27 [==============================] - 1s 26ms/step - loss: 117.5463 - mae: 8.5403 - val_loss: 138.3409 - val_mae: 9.5736\n",
      "Epoch 5/20\n",
      "27/27 [==============================] - 1s 25ms/step - loss: 116.7666 - mae: 8.5218 - val_loss: 130.0416 - val_mae: 9.3162\n",
      "Epoch 6/20\n",
      "27/27 [==============================] - 1s 24ms/step - loss: 117.0409 - mae: 8.5133 - val_loss: 138.8629 - val_mae: 9.5976\n",
      "Epoch 7/20\n",
      "27/27 [==============================] - 1s 24ms/step - loss: 116.2533 - mae: 8.4918 - val_loss: 147.3727 - val_mae: 9.8497\n",
      "Epoch 8/20\n",
      "27/27 [==============================] - 1s 23ms/step - loss: 116.5232 - mae: 8.4749 - val_loss: 147.0643 - val_mae: 9.8304\n",
      "Epoch 9/20\n",
      "27/27 [==============================] - 1s 24ms/step - loss: 115.4809 - mae: 8.4715 - val_loss: 145.0068 - val_mae: 9.7746\n",
      "Epoch 10/20\n",
      "27/27 [==============================] - 1s 25ms/step - loss: 115.5269 - mae: 8.4544 - val_loss: 149.8584 - val_mae: 9.8936\n",
      "Epoch 11/20\n",
      "27/27 [==============================] - 1s 25ms/step - loss: 114.6044 - mae: 8.4279 - val_loss: 146.6098 - val_mae: 9.7663\n",
      "Epoch 12/20\n",
      "27/27 [==============================] - 1s 25ms/step - loss: 114.6752 - mae: 8.3961 - val_loss: 150.2062 - val_mae: 9.8474\n",
      "Epoch 13/20\n",
      "27/27 [==============================] - 1s 26ms/step - loss: 113.0096 - mae: 8.3634 - val_loss: 143.4489 - val_mae: 9.6486\n",
      "Epoch 14/20\n",
      "27/27 [==============================] - 1s 26ms/step - loss: 112.0195 - mae: 8.2520 - val_loss: 154.9265 - val_mae: 9.9980\n",
      "Epoch 15/20\n",
      "27/27 [==============================] - 1s 26ms/step - loss: 112.6824 - mae: 8.2914 - val_loss: 148.9629 - val_mae: 9.7730\n",
      "Epoch 16/20\n",
      "27/27 [==============================] - 1s 26ms/step - loss: 110.9831 - mae: 8.2541 - val_loss: 163.8760 - val_mae: 10.2324\n",
      "Epoch 17/20\n",
      "27/27 [==============================] - 1s 28ms/step - loss: 109.6259 - mae: 8.2279 - val_loss: 155.7027 - val_mae: 10.0298\n",
      "Epoch 18/20\n",
      "27/27 [==============================] - 1s 26ms/step - loss: 109.8044 - mae: 8.2329 - val_loss: 162.7035 - val_mae: 10.2250\n",
      "Epoch 19/20\n",
      "27/27 [==============================] - 1s 24ms/step - loss: 107.9451 - mae: 8.1974 - val_loss: 179.3273 - val_mae: 10.8088\n",
      "Epoch 20/20\n",
      "27/27 [==============================] - 1s 24ms/step - loss: 106.0488 - mae: 8.0619 - val_loss: 156.2598 - val_mae: 10.0178\n",
      "9/9 [==============================] - 1s 5ms/step - loss: 140.9542 - mae: 9.1326\n",
      "RLS Test MAE: 9.133\n",
      "Naive Test MAE: 12.746236559139788\n"
     ]
    }
   ],
   "source": [
    "stacked_model(\"RNN_LSTM_Stacked.keras\", train_dataset, val_dataset, sequence_length, num_features)\n",
    "\n",
    "model = keras.models.load_model(\"RNN_LSTM_Stacked.keras\")\n",
    "rls_mae = model.evaluate(test_dataset)[1]\n",
    "print(f\"RLS Test MAE: {rls_mae:.3f}\")\n",
    "print('Naive Test MAE:', evaluate_naive_method(test_dataset))"
   ]
  },
  {
   "cell_type": "code",
   "execution_count": 23,
   "metadata": {},
   "outputs": [
    {
     "data": {
      "image/png": "[encoded data removed]",
      "text/plain": [
       "<Figure size 640x480 with 1 Axes>"
      ]
     },
     "metadata": {},
     "output_type": "display_data"
    }
   ],
   "source": [
    "loss_df = pd.DataFrame(history.history)\n",
    "loss_df[['mae', 'val_mae']].plot(legend=True, title='Training and Validation MAE')\n",
    "plt.show()"
   ]
  },
  {
   "cell_type": "markdown",
   "metadata": {},
   "source": [
    "## Expanding to multivariate"
   ]
  },
  {
   "cell_type": "code",
   "execution_count": 7,
   "metadata": {},
   "outputs": [],
   "source": [
    "num_features = 3\n",
    "\n",
    "sequence_length = 16\n",
    "batch_size = 32\n",
    "h = 1\n",
    "features = spurs[['score_diff', 'pts_paint', 'turnovers']]\n",
    "targets = spurs[['score_diff']]\n",
    "\n",
    "train_dataset, val_dataset, test_dataset = split_data(features,targets, sequence_length, batch_size, h)"
   ]
  },
  {
   "cell_type": "code",
   "execution_count": 8,
   "metadata": {},
   "outputs": [
    {
     "name": "stdout",
     "output_type": "stream",
     "text": [
      "WARNING:tensorflow:From c:\\Users\\bisho\\.conda\\envs\\TensorFlow\\lib\\site-packages\\keras\\src\\backend.py:1398: The name tf.executing_eagerly_outside_functions is deprecated. Please use tf.compat.v1.executing_eagerly_outside_functions instead.\n",
      "\n",
      "Model: \"model\"\n",
      "_________________________________________________________________\n",
      " Layer (type)                Output Shape              Param #   \n",
      "=================================================================\n",
      " input_1 (InputLayer)        [(None, 16, 3)]           0         \n",
      "                                                                 \n",
      " lstm (LSTM)                 (None, 16, 128)           67584     \n",
      "                                                                 \n",
      " simple_rnn (SimpleRNN)      (None, 128)               32896     \n",
      "                                                                 \n",
      " dropout (Dropout)           (None, 128)               0         \n",
      "                                                                 \n",
      " dense (Dense)               (None, 1)                 129       \n",
      "                                                                 \n",
      "=================================================================\n",
      "Total params: 100609 (393.00 KB)\n",
      "Trainable params: 100609 (393.00 KB)\n",
      "Non-trainable params: 0 (0.00 Byte)\n",
      "_________________________________________________________________\n",
      "WARNING:tensorflow:From c:\\Users\\bisho\\.conda\\envs\\TensorFlow\\lib\\site-packages\\keras\\src\\optimizers\\__init__.py:309: The name tf.train.Optimizer is deprecated. Please use tf.compat.v1.train.Optimizer instead.\n",
      "\n",
      "Epoch 1/20\n",
      "WARNING:tensorflow:From c:\\Users\\bisho\\.conda\\envs\\TensorFlow\\lib\\site-packages\\keras\\src\\utils\\tf_utils.py:492: The name tf.ragged.RaggedTensorValue is deprecated. Please use tf.compat.v1.ragged.RaggedTensorValue instead.\n",
      "\n",
      "WARNING:tensorflow:From c:\\Users\\bisho\\.conda\\envs\\TensorFlow\\lib\\site-packages\\keras\\src\\engine\\base_layer_utils.py:384: The name tf.executing_eagerly_outside_functions is deprecated. Please use tf.compat.v1.executing_eagerly_outside_functions instead.\n",
      "\n",
      "27/27 [==============================] - 9s 71ms/step - loss: nan - mae: nan - val_loss: nan - val_mae: nan\n",
      "Epoch 2/20\n",
      "27/27 [==============================] - 1s 39ms/step - loss: nan - mae: nan - val_loss: nan - val_mae: nan\n",
      "Epoch 3/20\n",
      "27/27 [==============================] - 1s 41ms/step - loss: nan - mae: nan - val_loss: nan - val_mae: nan\n",
      "Epoch 4/20\n",
      "27/27 [==============================] - 1s 39ms/step - loss: nan - mae: nan - val_loss: nan - val_mae: nan\n",
      "Epoch 5/20\n",
      "27/27 [==============================] - 1s 39ms/step - loss: nan - mae: nan - val_loss: nan - val_mae: nan\n",
      "Epoch 6/20\n",
      "27/27 [==============================] - 1s 39ms/step - loss: nan - mae: nan - val_loss: nan - val_mae: nan\n",
      "Epoch 7/20\n",
      "27/27 [==============================] - 1s 39ms/step - loss: nan - mae: nan - val_loss: nan - val_mae: nan\n",
      "Epoch 8/20\n",
      "27/27 [==============================] - 1s 39ms/step - loss: nan - mae: nan - val_loss: nan - val_mae: nan\n",
      "Epoch 9/20\n",
      "27/27 [==============================] - 1s 39ms/step - loss: nan - mae: nan - val_loss: nan - val_mae: nan\n",
      "Epoch 10/20\n",
      "27/27 [==============================] - 1s 39ms/step - loss: nan - mae: nan - val_loss: nan - val_mae: nan\n",
      "Epoch 11/20\n",
      "27/27 [==============================] - 1s 39ms/step - loss: nan - mae: nan - val_loss: nan - val_mae: nan\n",
      "Epoch 12/20\n",
      "27/27 [==============================] - 1s 39ms/step - loss: nan - mae: nan - val_loss: nan - val_mae: nan\n",
      "Epoch 13/20\n",
      "27/27 [==============================] - 1s 39ms/step - loss: nan - mae: nan - val_loss: nan - val_mae: nan\n",
      "Epoch 14/20\n",
      "27/27 [==============================] - 1s 39ms/step - loss: nan - mae: nan - val_loss: nan - val_mae: nan\n",
      "Epoch 15/20\n",
      "27/27 [==============================] - 1s 39ms/step - loss: nan - mae: nan - val_loss: nan - val_mae: nan\n",
      "Epoch 16/20\n",
      "27/27 [==============================] - 1s 39ms/step - loss: nan - mae: nan - val_loss: nan - val_mae: nan\n",
      "Epoch 17/20\n",
      "27/27 [==============================] - 1s 39ms/step - loss: nan - mae: nan - val_loss: nan - val_mae: nan\n",
      "Epoch 18/20\n",
      "27/27 [==============================] - 1s 39ms/step - loss: nan - mae: nan - val_loss: nan - val_mae: nan\n",
      "Epoch 19/20\n",
      "27/27 [==============================] - 1s 39ms/step - loss: nan - mae: nan - val_loss: nan - val_mae: nan\n",
      "Epoch 20/20\n",
      "27/27 [==============================] - 1s 39ms/step - loss: nan - mae: nan - val_loss: nan - val_mae: nan\n"
     ]
    }
   ],
   "source": [
    "loss_df = stacked_model(\"RNN_LSTM_Stacked_3_features.keras\", train_dataset, val_dataset, sequence_length, num_features)"
   ]
  },
  {
   "cell_type": "code",
   "execution_count": 9,
   "metadata": {},
   "outputs": [
    {
     "ename": "ValueError",
     "evalue": "in user code:\n\n    File \"c:\\Users\\bisho\\.conda\\envs\\TensorFlow\\lib\\site-packages\\keras\\src\\engine\\training.py\", line 2066, in test_function  *\n        return step_function(self, iterator)\n    File \"c:\\Users\\bisho\\.conda\\envs\\TensorFlow\\lib\\site-packages\\keras\\src\\engine\\training.py\", line 2049, in step_function  **\n        outputs = model.distribute_strategy.run(run_step, args=(data,))\n    File \"c:\\Users\\bisho\\.conda\\envs\\TensorFlow\\lib\\site-packages\\keras\\src\\engine\\training.py\", line 2037, in run_step  **\n        outputs = model.test_step(data)\n    File \"c:\\Users\\bisho\\.conda\\envs\\TensorFlow\\lib\\site-packages\\keras\\src\\engine\\training.py\", line 1917, in test_step\n        y_pred = self(x, training=False)\n    File \"c:\\Users\\bisho\\.conda\\envs\\TensorFlow\\lib\\site-packages\\keras\\src\\utils\\traceback_utils.py\", line 70, in error_handler\n        raise e.with_traceback(filtered_tb) from None\n    File \"c:\\Users\\bisho\\.conda\\envs\\TensorFlow\\lib\\site-packages\\keras\\src\\engine\\input_spec.py\", line 298, in assert_input_compatibility\n        raise ValueError(\n\n    ValueError: Input 0 of layer \"model_9\" is incompatible with the layer: expected shape=(None, 16, 2), found shape=(None, None, 3)\n",
     "output_type": "error",
     "traceback": [
      "\u001b[1;31m---------------------------------------------------------------------------\u001b[0m",
      "\u001b[1;31mValueError\u001b[0m                                Traceback (most recent call last)",
      "Cell \u001b[1;32mIn[9], line 2\u001b[0m\n\u001b[0;32m      1\u001b[0m model \u001b[38;5;241m=\u001b[39m keras\u001b[38;5;241m.\u001b[39mmodels\u001b[38;5;241m.\u001b[39mload_model(\u001b[38;5;124m\"\u001b[39m\u001b[38;5;124mRNN_LSTM_Stacked_2_features.keras\u001b[39m\u001b[38;5;124m\"\u001b[39m)\n\u001b[1;32m----> 2\u001b[0m rls_mae \u001b[38;5;241m=\u001b[39m \u001b[43mmodel\u001b[49m\u001b[38;5;241;43m.\u001b[39;49m\u001b[43mevaluate\u001b[49m\u001b[43m(\u001b[49m\u001b[43mtest_dataset\u001b[49m\u001b[43m)\u001b[49m[\u001b[38;5;241m1\u001b[39m]\n\u001b[0;32m      3\u001b[0m \u001b[38;5;28mprint\u001b[39m(\u001b[38;5;124mf\u001b[39m\u001b[38;5;124m\"\u001b[39m\u001b[38;5;124mRLS Test MAE: \u001b[39m\u001b[38;5;132;01m{\u001b[39;00mrls_mae\u001b[38;5;132;01m:\u001b[39;00m\u001b[38;5;124m.3f\u001b[39m\u001b[38;5;132;01m}\u001b[39;00m\u001b[38;5;124m\"\u001b[39m)\n",
      "File \u001b[1;32mc:\\Users\\bisho\\.conda\\envs\\TensorFlow\\lib\\site-packages\\keras\\src\\utils\\traceback_utils.py:70\u001b[0m, in \u001b[0;36mfilter_traceback.<locals>.error_handler\u001b[1;34m(*args, **kwargs)\u001b[0m\n\u001b[0;32m     67\u001b[0m     filtered_tb \u001b[38;5;241m=\u001b[39m _process_traceback_frames(e\u001b[38;5;241m.\u001b[39m__traceback__)\n\u001b[0;32m     68\u001b[0m     \u001b[38;5;66;03m# To get the full stack trace, call:\u001b[39;00m\n\u001b[0;32m     69\u001b[0m     \u001b[38;5;66;03m# `tf.debugging.disable_traceback_filtering()`\u001b[39;00m\n\u001b[1;32m---> 70\u001b[0m     \u001b[38;5;28;01mraise\u001b[39;00m e\u001b[38;5;241m.\u001b[39mwith_traceback(filtered_tb) \u001b[38;5;28;01mfrom\u001b[39;00m \u001b[38;5;28;01mNone\u001b[39;00m\n\u001b[0;32m     71\u001b[0m \u001b[38;5;28;01mfinally\u001b[39;00m:\n\u001b[0;32m     72\u001b[0m     \u001b[38;5;28;01mdel\u001b[39;00m filtered_tb\n",
      "File \u001b[1;32m~\\AppData\\Local\\Temp\\__autograph_generated_filevedg417c.py:15\u001b[0m, in \u001b[0;36mouter_factory.<locals>.inner_factory.<locals>.tf__test_function\u001b[1;34m(iterator)\u001b[0m\n\u001b[0;32m     13\u001b[0m \u001b[38;5;28;01mtry\u001b[39;00m:\n\u001b[0;32m     14\u001b[0m     do_return \u001b[38;5;241m=\u001b[39m \u001b[38;5;28;01mTrue\u001b[39;00m\n\u001b[1;32m---> 15\u001b[0m     retval_ \u001b[38;5;241m=\u001b[39m ag__\u001b[38;5;241m.\u001b[39mconverted_call(ag__\u001b[38;5;241m.\u001b[39mld(step_function), (ag__\u001b[38;5;241m.\u001b[39mld(\u001b[38;5;28mself\u001b[39m), ag__\u001b[38;5;241m.\u001b[39mld(iterator)), \u001b[38;5;28;01mNone\u001b[39;00m, fscope)\n\u001b[0;32m     16\u001b[0m \u001b[38;5;28;01mexcept\u001b[39;00m:\n\u001b[0;32m     17\u001b[0m     do_return \u001b[38;5;241m=\u001b[39m \u001b[38;5;28;01mFalse\u001b[39;00m\n",
      "\u001b[1;31mValueError\u001b[0m: in user code:\n\n    File \"c:\\Users\\bisho\\.conda\\envs\\TensorFlow\\lib\\site-packages\\keras\\src\\engine\\training.py\", line 2066, in test_function  *\n        return step_function(self, iterator)\n    File \"c:\\Users\\bisho\\.conda\\envs\\TensorFlow\\lib\\site-packages\\keras\\src\\engine\\training.py\", line 2049, in step_function  **\n        outputs = model.distribute_strategy.run(run_step, args=(data,))\n    File \"c:\\Users\\bisho\\.conda\\envs\\TensorFlow\\lib\\site-packages\\keras\\src\\engine\\training.py\", line 2037, in run_step  **\n        outputs = model.test_step(data)\n    File \"c:\\Users\\bisho\\.conda\\envs\\TensorFlow\\lib\\site-packages\\keras\\src\\engine\\training.py\", line 1917, in test_step\n        y_pred = self(x, training=False)\n    File \"c:\\Users\\bisho\\.conda\\envs\\TensorFlow\\lib\\site-packages\\keras\\src\\utils\\traceback_utils.py\", line 70, in error_handler\n        raise e.with_traceback(filtered_tb) from None\n    File \"c:\\Users\\bisho\\.conda\\envs\\TensorFlow\\lib\\site-packages\\keras\\src\\engine\\input_spec.py\", line 298, in assert_input_compatibility\n        raise ValueError(\n\n    ValueError: Input 0 of layer \"model_9\" is incompatible with the layer: expected shape=(None, 16, 2), found shape=(None, None, 3)\n"
     ]
    }
   ],
   "source": [
    "model = keras.models.load_model(\"RNN_LSTM_Stacked_2_features.keras\")\n",
    "rls_mae = model.evaluate(test_dataset)[1]\n",
    "print(f\"RLS Test MAE: {rls_mae:.3f}\")"
   ]
  },
  {
   "cell_type": "code",
   "execution_count": 50,
   "metadata": {},
   "outputs": [
    {
     "data": {
      "image/png": "[encoded data removed]",
      "text/plain": [
       "<Figure size 640x480 with 1 Axes>"
      ]
     },
     "metadata": {},
     "output_type": "display_data"
    }
   ],
   "source": [
    "loss_df[['mae', 'val_mae']].plot(legend=True, title='Training and Validation MAE')\n",
    "plt.show()"
   ]
  }
 ],
 "metadata": {
  "kernelspec": {
   "display_name": "TensorFlow",
   "language": "python",
   "name": "python3"
  },
  "language_info": {
   "codemirror_mode": {
    "name": "ipython",
    "version": 3
   },
   "file_extension": ".py",
   "mimetype": "text/x-python",
   "name": "python",
   "nbconvert_exporter": "python",
   "pygments_lexer": "ipython3",
   "version": "3.10.13"
  }
 },
 "nbformat": 4,
 "nbformat_minor": 2
}
